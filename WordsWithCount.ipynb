{
 "cells": [
  {
   "cell_type": "code",
   "execution_count": 2,
   "metadata": {},
   "outputs": [
    {
     "name": "stdout",
     "output_type": "stream",
     "text": [
      "Arabic-Original.csv\n",
      "Arabic-Original.csv.zip\n",
      "Bangla.csv.zip\n",
      "English.csv\n",
      "en.yusufali.csv\n",
      "\n"
     ]
    }
   ],
   "source": [
    "import pandas as pd\n",
    "import numpy as np\n",
    "import matplotlib.pyplot as plt\n",
    "from subprocess import check_output\n",
    "\n",
    "%matplotlib inline \n",
    "\n",
    "print (check_output([\"ls\", \"./input/\"]).decode(\"utf-8\"))"
   ]
  },
  {
   "cell_type": "code",
   "execution_count": 39,
   "metadata": {},
   "outputs": [
    {
     "name": "stdout",
     "output_type": "stream",
     "text": [
      "[nltk_data] Downloading package wordnet to /home/mkazim/nltk_data...\n",
      "[nltk_data]   Unzipping corpora/wordnet.zip.\n"
     ]
    }
   ],
   "source": [
    "import re \n",
    "import nltk\n",
    "nltk.download('wordnet')\n",
    "from nltk.corpus import wordnet\n",
    "from csv import QUOTE_NONE"
   ]
  },
  {
   "cell_type": "code",
   "execution_count": 40,
   "metadata": {},
   "outputs": [],
   "source": [
    "def read_and_reformat(csvpath):\n",
    "    df = pd.read_csv(csvpath,\n",
    "                     sep='|',\n",
    "                     encoding='iso-8859-1',\n",
    "                     dtype=object,\n",
    "                     header=None,\n",
    "                     quoting=QUOTE_NONE,\n",
    "                     names=['Surah', 'Ayah', 'Text'])    \n",
    "    df['Text'] = df['Text'].str.replace('#NAME\\?', '')\n",
    "    df['Text'] = df['Text'].str.strip(',')\n",
    "    return df"
   ]
  },
  {
   "cell_type": "code",
   "execution_count": 41,
   "metadata": {},
   "outputs": [
    {
     "data": {
      "text/html": [
       "<div>\n",
       "<style scoped>\n",
       "    .dataframe tbody tr th:only-of-type {\n",
       "        vertical-align: middle;\n",
       "    }\n",
       "\n",
       "    .dataframe tbody tr th {\n",
       "        vertical-align: top;\n",
       "    }\n",
       "\n",
       "    .dataframe thead th {\n",
       "        text-align: right;\n",
       "    }\n",
       "</style>\n",
       "<table border=\"1\" class=\"dataframe\">\n",
       "  <thead>\n",
       "    <tr style=\"text-align: right;\">\n",
       "      <th></th>\n",
       "      <th>Surah</th>\n",
       "      <th>Ayah</th>\n",
       "      <th>Text</th>\n",
       "    </tr>\n",
       "  </thead>\n",
       "  <tbody>\n",
       "    <tr>\n",
       "      <th>0</th>\n",
       "      <td>1</td>\n",
       "      <td>1</td>\n",
       "      <td>In the name of Allah, Most Gracious, Most Merc...</td>\n",
       "    </tr>\n",
       "    <tr>\n",
       "      <th>1</th>\n",
       "      <td>1</td>\n",
       "      <td>2</td>\n",
       "      <td>Praise be to Allah, the Cherisher and Sustaine...</td>\n",
       "    </tr>\n",
       "    <tr>\n",
       "      <th>2</th>\n",
       "      <td>1</td>\n",
       "      <td>3</td>\n",
       "      <td>Most Gracious, Most Merciful;</td>\n",
       "    </tr>\n",
       "    <tr>\n",
       "      <th>3</th>\n",
       "      <td>1</td>\n",
       "      <td>4</td>\n",
       "      <td>Master of the Day of Judgment.</td>\n",
       "    </tr>\n",
       "    <tr>\n",
       "      <th>4</th>\n",
       "      <td>1</td>\n",
       "      <td>5</td>\n",
       "      <td>Thee do we worship, and Thine aid we seek.</td>\n",
       "    </tr>\n",
       "    <tr>\n",
       "      <th>5</th>\n",
       "      <td>1</td>\n",
       "      <td>6</td>\n",
       "      <td>Show us the straight way</td>\n",
       "    </tr>\n",
       "    <tr>\n",
       "      <th>6</th>\n",
       "      <td>1</td>\n",
       "      <td>7</td>\n",
       "      <td>The way of those on whom Thou hast bestowed Th...</td>\n",
       "    </tr>\n",
       "    <tr>\n",
       "      <th>7</th>\n",
       "      <td>2</td>\n",
       "      <td>1</td>\n",
       "      <td>A.L.M.</td>\n",
       "    </tr>\n",
       "    <tr>\n",
       "      <th>8</th>\n",
       "      <td>2</td>\n",
       "      <td>2</td>\n",
       "      <td>This is the Book; in it is guidance sure, with...</td>\n",
       "    </tr>\n",
       "    <tr>\n",
       "      <th>9</th>\n",
       "      <td>2</td>\n",
       "      <td>3</td>\n",
       "      <td>Who believe in the Unseen, are steadfast in pr...</td>\n",
       "    </tr>\n",
       "  </tbody>\n",
       "</table>\n",
       "</div>"
      ],
      "text/plain": [
       "  Surah Ayah                                               Text\n",
       "0     1    1  In the name of Allah, Most Gracious, Most Merc...\n",
       "1     1    2  Praise be to Allah, the Cherisher and Sustaine...\n",
       "2     1    3                      Most Gracious, Most Merciful;\n",
       "3     1    4                     Master of the Day of Judgment.\n",
       "4     1    5         Thee do we worship, and Thine aid we seek.\n",
       "5     1    6                           Show us the straight way\n",
       "6     1    7  The way of those on whom Thou hast bestowed Th...\n",
       "7     2    1                                             A.L.M.\n",
       "8     2    2  This is the Book; in it is guidance sure, with...\n",
       "9     2    3  Who believe in the Unseen, are steadfast in pr..."
      ]
     },
     "execution_count": 41,
     "metadata": {},
     "output_type": "execute_result"
    }
   ],
   "source": [
    "df = read_and_reformat('./input/English.csv')\n",
    "df.head(10)"
   ]
  },
  {
   "cell_type": "code",
   "execution_count": 42,
   "metadata": {},
   "outputs": [
    {
     "name": "stdout",
     "output_type": "stream",
     "text": [
      "Human = 683.0\n",
      "['homo', 'man', 'human_being', 'human', 'human', 'human', 'human']\n",
      "Women = 197.0\n",
      "['woman', 'adult_female', 'woman', 'charwoman', 'char', 'cleaning_woman', 'cleaning_lady', 'woman', 'womanhood', 'woman', 'fair_sex']\n",
      "Humility = 38.0\n",
      "['humility', 'humbleness', 'humility', 'humbleness']\n",
      "Heaven = 491.0\n",
      "['Eden', 'paradise', 'nirvana', 'heaven', 'promised_land', 'Shangri-la', 'Heaven']\n",
      "Hell = 960.0\n",
      "['hell', 'hell_on_earth', 'hellhole', 'snake_pit', 'the_pits', 'inferno', 'hell', 'blaze', 'Hell', 'perdition', 'Inferno', 'infernal_region', 'nether_region', 'pit', 'Hell', 'Hades', 'infernal_region', 'netherworld', 'Scheol', 'underworld', 'sin', 'hell', 'hell', 'blaze']\n"
     ]
    }
   ],
   "source": [
    "searchKeywords  = ['Human', 'Women', 'Humility','Heaven' , 'Hell']\n",
    "for keyword in searchKeywords:     \n",
    "    synonyms = []\n",
    "    countTotal = 0\n",
    "    for syn in wordnet.synsets(keyword):\n",
    "        for l in syn.lemmas():\n",
    "            countTotal += df['Text'].str.count(l.name() , re.IGNORECASE).sum() \n",
    "            synonyms.append(l.name())\n",
    "    print(keyword + \" = \" + str(countTotal)   )\n",
    "    print(synonyms)  "
   ]
  },
  {
   "cell_type": "code",
   "execution_count": 43,
   "metadata": {},
   "outputs": [
    {
     "name": "stdout",
     "output_type": "stream",
     "text": [
      "Human = 11.0\n",
      "Women = 100.0\n",
      "Humility = 19.0\n",
      "Heaven = 243.0\n",
      "Hell = 91.0\n"
     ]
    }
   ],
   "source": [
    "searchKeywords  = ['Human', 'Women', 'Humility','Heaven' , 'Hell']\n",
    "for key in search_keywords:\n",
    "    df[key] = df['Text'].str.count(key, re.IGNORECASE)\n",
    "    print(key + \" = \" + str(df[key].sum()))"
   ]
  },
  {
   "cell_type": "code",
   "execution_count": null,
   "metadata": {},
   "outputs": [],
   "source": []
  }
 ],
 "metadata": {
  "kernelspec": {
   "display_name": "Python [default]",
   "language": "python",
   "name": "python3"
  },
  "language_info": {
   "codemirror_mode": {
    "name": "ipython",
    "version": 3
   },
   "file_extension": ".py",
   "mimetype": "text/x-python",
   "name": "python",
   "nbconvert_exporter": "python",
   "pygments_lexer": "ipython3",
   "version": "3.5.5"
  }
 },
 "nbformat": 4,
 "nbformat_minor": 2
}
